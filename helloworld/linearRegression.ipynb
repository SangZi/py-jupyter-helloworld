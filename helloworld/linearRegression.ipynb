{
 "cells": [
  {
   "cell_type": "code",
   "execution_count": 5,
   "outputs": [
    {
     "name": "stdout",
     "output_type": "stream",
     "text": [
      "x = 3.4750355767920413\n",
      "x = 5.161567795566025\n",
      "x = 1.982409788526324\n",
      "x = 3.2791545868382306\n",
      "x = 2.4915179926956954\n",
      "x = 5.501935787196761\n",
      "x = 2.7224124101888796\n",
      "x = 3.8680422749361574\n",
      "x = 1.0976953178398972\n",
      "x = 2.7384985639475232\n",
      "y = 10.405622804246702\n",
      "y = 15.491335195524151\n",
      "y = 5.851889303210792\n",
      "y = 9.981005862437566\n",
      "y = 7.639114799557742\n",
      "y = 16.38212644889677\n",
      "y = 8.150601692506552\n",
      "y = 11.725835883298226\n",
      "y = 3.1338827421524598\n",
      "y = 8.286205839757386\n",
      "Hello, Alice!\n"
     ]
    },
    {
     "data": {
      "text/plain": "<Figure size 640x480 with 1 Axes>",
      "image/png": "[encoded data removed]"
     },
     "metadata": {},
     "output_type": "display_data"
    },
    {
     "data": {
      "text/plain": "'\\n\\nx = np.random.normal(3, 1, 10): This line of code does the following:\\n\\nnp.random.normal(): This function generates random numbers from a normal distribution (Gaussian distribution). It takes three arguments:\\n\\n3: This is the mean (average) of the distribution. In this case, the mean is set to 3.\\n1: This is the standard deviation of the distribution. The standard deviation controls the spread or dispersion of the data. In this case, the standard deviation is set to 1, which means the data points will be relatively close to the mean.\\n10: This is the number of random values to generate. In this case, it generates 10 random numbers from the specified normal distribution.\\nThe resulting array of random numbers is assigned to the variable x. These numbers will be drawn from a normal distribution with a mean of 3 and a standard deviation of 1.\\n---\\nx = np.random.normal(3, 1, 10)：这行代码执行以下操作：\\n\\nnp.random.normal(): 这个函数从正态分布（高斯分布）生成随机数。它接受三个参数：\\n\\n3：这是分布的均值（平均值）。在这里，均值设置为3。\\n1：这是分布的标准差。标准差控制了数据的分布或离散程度。在这里，标准差设置为1，这意味着数据点将相对接近均值。\\n10：这是要生成的随机值的数量。在这种情况下，它生成10个从指定正态分布中抽样的随机数。\\n生成的随机数数组被赋值给变量x。这些数字将从均值为3、标准差为1的正态分布中抽取。\\n\\n因此，变量x将包含一个包含10个随机数的数组，这些随机数遵循均值为3、标准差为1的正态分布。x中的具体值每次执行此代码时都会不同，因为它们是从分布中随机抽样得到的。\\n'"
     },
     "execution_count": 5,
     "metadata": {},
     "output_type": "execute_result"
    }
   ],
   "source": [
    "# Linear Regression\n",
    "\n",
    "import numpy as np\n",
    "import matplotlib.pyplot as plt\n",
    "\n",
    "x = np.random.normal(3, 1, 10)\n",
    "a = np.random.normal(0, 0.1, 10)\n",
    "y = 3 * x + a\n",
    "\n",
    "for value in x:\n",
    "    print(\"x =\", value)\n",
    "\n",
    "for value in y:\n",
    "    print(\"y =\", value)\n",
    "\n",
    "# display in graph, x-value for x-axis, y-value for y-axis\n",
    "plt.scatter(x, y)  # Use plt.scatter() to create a scatter plot graph\n",
    "plt.show()  # Display the plo\n",
    "\n",
    "'''\n",
    "x = np.random.normal(3, 1, 10): This line of code does the following:\n",
    "\n",
    "np.random.normal(): This function generates random numbers from a normal distribution (Gaussian distribution). It takes three arguments:\n",
    "\n",
    "3: This is the mean (average) of the distribution. In this case, the mean is set to 3.\n",
    "1: This is the standard deviation of the distribution. The standard deviation controls the spread or dispersion of the data. In this case, the standard deviation is set to 1, which means the data points will be relatively close to the mean.\n",
    "10: This is the number of random values to generate. In this case, it generates 10 random numbers from the specified normal distribution.\n",
    "The resulting array of random numbers is assigned to the variable x. These numbers will be drawn from a normal distribution with a mean of 3 and a standard deviation of 1.\n",
    "'''"
   ],
   "metadata": {
    "collapsed": false
   }
  },
  {
   "cell_type": "code",
   "execution_count": null,
   "outputs": [],
   "source": [],
   "metadata": {
    "collapsed": false
   }
  }
 ],
 "metadata": {
  "kernelspec": {
   "display_name": "Python 3",
   "language": "python",
   "name": "python3"
  },
  "language_info": {
   "codemirror_mode": {
    "name": "ipython",
    "version": 2
   },
   "file_extension": ".py",
   "mimetype": "text/x-python",
   "name": "python",
   "nbconvert_exporter": "python",
   "pygments_lexer": "ipython2",
   "version": "2.7.6"
  }
 },
 "nbformat": 4,
 "nbformat_minor": 0
}
